{
 "cells": [
  {
   "cell_type": "markdown",
   "id": "f8487aea",
   "metadata": {},
   "source": [
    "# EDA, Data Visualization & Machine Learning on Car Prices in Poland "
   ]
  },
  {
   "cell_type": "code",
   "execution_count": 1,
   "id": "3dfef8dd",
   "metadata": {},
   "outputs": [],
   "source": [
    "import pandas as pd\n",
    "import numpy as np\n",
    "import matplotlib.pyplot as plt\n",
    "import seaborn as sns\n",
    "\n",
    "from sklearn import preprocessing\n",
    "from sklearn.model_selection import train_test_split\n",
    "from sklearn.preprocessing import StandardScaler\n",
    "from sklearn.metrics import mean_absolute_error, mean_squared_error, r2_score\n",
    "from sklearn.linear_model import LinearRegression\n",
    "from sklearn.model_selection import GridSearchCV\n",
    "from sklearn.svm import SVR\n",
    "from sklearn.tree import DecisionTreeRegressor\n",
    "from sklearn.ensemble import RandomForestRegressor, GradientBoostingRegressor, RandomForestClassifier"
   ]
  },
  {
   "cell_type": "code",
   "execution_count": 2,
   "id": "f4e9b16b",
   "metadata": {},
   "outputs": [],
   "source": [
    "df = pd.read_csv('Car_Prices_Poland_Kaggle.csv')"
   ]
  },
  {
   "cell_type": "markdown",
   "id": "ba856486",
   "metadata": {},
   "source": [
    "## Data Exploration "
   ]
  },
  {
   "cell_type": "code",
   "execution_count": 3,
   "id": "6eefc9d7",
   "metadata": {
    "scrolled": true
   },
   "outputs": [
    {
     "data": {
      "text/html": [
       "<div>\n",
       "<style scoped>\n",
       "    .dataframe tbody tr th:only-of-type {\n",
       "        vertical-align: middle;\n",
       "    }\n",
       "\n",
       "    .dataframe tbody tr th {\n",
       "        vertical-align: top;\n",
       "    }\n",
       "\n",
       "    .dataframe thead th {\n",
       "        text-align: right;\n",
       "    }\n",
       "</style>\n",
       "<table border=\"1\" class=\"dataframe\">\n",
       "  <thead>\n",
       "    <tr style=\"text-align: right;\">\n",
       "      <th></th>\n",
       "      <th>Unnamed: 0</th>\n",
       "      <th>mark</th>\n",
       "      <th>model</th>\n",
       "      <th>generation_name</th>\n",
       "      <th>year</th>\n",
       "      <th>mileage</th>\n",
       "      <th>vol_engine</th>\n",
       "      <th>fuel</th>\n",
       "      <th>city</th>\n",
       "      <th>province</th>\n",
       "      <th>price</th>\n",
       "    </tr>\n",
       "  </thead>\n",
       "  <tbody>\n",
       "    <tr>\n",
       "      <th>0</th>\n",
       "      <td>0</td>\n",
       "      <td>opel</td>\n",
       "      <td>combo</td>\n",
       "      <td>gen-d-2011</td>\n",
       "      <td>2015</td>\n",
       "      <td>139568</td>\n",
       "      <td>1248</td>\n",
       "      <td>Diesel</td>\n",
       "      <td>Janki</td>\n",
       "      <td>Mazowieckie</td>\n",
       "      <td>35900</td>\n",
       "    </tr>\n",
       "    <tr>\n",
       "      <th>1</th>\n",
       "      <td>1</td>\n",
       "      <td>opel</td>\n",
       "      <td>combo</td>\n",
       "      <td>gen-d-2011</td>\n",
       "      <td>2018</td>\n",
       "      <td>31991</td>\n",
       "      <td>1499</td>\n",
       "      <td>Diesel</td>\n",
       "      <td>Katowice</td>\n",
       "      <td>Śląskie</td>\n",
       "      <td>78501</td>\n",
       "    </tr>\n",
       "    <tr>\n",
       "      <th>2</th>\n",
       "      <td>2</td>\n",
       "      <td>opel</td>\n",
       "      <td>combo</td>\n",
       "      <td>gen-d-2011</td>\n",
       "      <td>2015</td>\n",
       "      <td>278437</td>\n",
       "      <td>1598</td>\n",
       "      <td>Diesel</td>\n",
       "      <td>Brzeg</td>\n",
       "      <td>Opolskie</td>\n",
       "      <td>27000</td>\n",
       "    </tr>\n",
       "    <tr>\n",
       "      <th>3</th>\n",
       "      <td>3</td>\n",
       "      <td>opel</td>\n",
       "      <td>combo</td>\n",
       "      <td>gen-d-2011</td>\n",
       "      <td>2016</td>\n",
       "      <td>47600</td>\n",
       "      <td>1248</td>\n",
       "      <td>Diesel</td>\n",
       "      <td>Korfantów</td>\n",
       "      <td>Opolskie</td>\n",
       "      <td>30800</td>\n",
       "    </tr>\n",
       "    <tr>\n",
       "      <th>4</th>\n",
       "      <td>4</td>\n",
       "      <td>opel</td>\n",
       "      <td>combo</td>\n",
       "      <td>gen-d-2011</td>\n",
       "      <td>2014</td>\n",
       "      <td>103000</td>\n",
       "      <td>1400</td>\n",
       "      <td>CNG</td>\n",
       "      <td>Tarnowskie Góry</td>\n",
       "      <td>Śląskie</td>\n",
       "      <td>35900</td>\n",
       "    </tr>\n",
       "    <tr>\n",
       "      <th>...</th>\n",
       "      <td>...</td>\n",
       "      <td>...</td>\n",
       "      <td>...</td>\n",
       "      <td>...</td>\n",
       "      <td>...</td>\n",
       "      <td>...</td>\n",
       "      <td>...</td>\n",
       "      <td>...</td>\n",
       "      <td>...</td>\n",
       "      <td>...</td>\n",
       "      <td>...</td>\n",
       "    </tr>\n",
       "    <tr>\n",
       "      <th>117922</th>\n",
       "      <td>117922</td>\n",
       "      <td>volvo</td>\n",
       "      <td>xc-90</td>\n",
       "      <td>gen-ii-2014-xc-90</td>\n",
       "      <td>2020</td>\n",
       "      <td>40000</td>\n",
       "      <td>1969</td>\n",
       "      <td>Hybrid</td>\n",
       "      <td>Katowice</td>\n",
       "      <td>Śląskie</td>\n",
       "      <td>222790</td>\n",
       "    </tr>\n",
       "    <tr>\n",
       "      <th>117923</th>\n",
       "      <td>117923</td>\n",
       "      <td>volvo</td>\n",
       "      <td>xc-90</td>\n",
       "      <td>gen-ii-2014-xc-90</td>\n",
       "      <td>2017</td>\n",
       "      <td>51000</td>\n",
       "      <td>1969</td>\n",
       "      <td>Diesel</td>\n",
       "      <td>Chechło Pierwsze</td>\n",
       "      <td>Łódzkie</td>\n",
       "      <td>229900</td>\n",
       "    </tr>\n",
       "    <tr>\n",
       "      <th>117924</th>\n",
       "      <td>117924</td>\n",
       "      <td>volvo</td>\n",
       "      <td>xc-90</td>\n",
       "      <td>gen-ii-2014-xc-90</td>\n",
       "      <td>2016</td>\n",
       "      <td>83500</td>\n",
       "      <td>1969</td>\n",
       "      <td>Gasoline</td>\n",
       "      <td>Pruszcz Gdański</td>\n",
       "      <td>Pomorskie</td>\n",
       "      <td>135000</td>\n",
       "    </tr>\n",
       "    <tr>\n",
       "      <th>117925</th>\n",
       "      <td>117925</td>\n",
       "      <td>volvo</td>\n",
       "      <td>xc-90</td>\n",
       "      <td>gen-ii-2014-xc-90</td>\n",
       "      <td>2017</td>\n",
       "      <td>174000</td>\n",
       "      <td>1969</td>\n",
       "      <td>Diesel</td>\n",
       "      <td>Kalisz</td>\n",
       "      <td>Wielkopolskie</td>\n",
       "      <td>154500</td>\n",
       "    </tr>\n",
       "    <tr>\n",
       "      <th>117926</th>\n",
       "      <td>117926</td>\n",
       "      <td>volvo</td>\n",
       "      <td>xc-90</td>\n",
       "      <td>gen-ii-2014-xc-90</td>\n",
       "      <td>2016</td>\n",
       "      <td>189020</td>\n",
       "      <td>1969</td>\n",
       "      <td>Gasoline</td>\n",
       "      <td>Sionna</td>\n",
       "      <td>Mazowieckie</td>\n",
       "      <td>130000</td>\n",
       "    </tr>\n",
       "  </tbody>\n",
       "</table>\n",
       "<p>117927 rows × 11 columns</p>\n",
       "</div>"
      ],
      "text/plain": [
       "        Unnamed: 0   mark  model    generation_name  year  mileage  \\\n",
       "0                0   opel  combo         gen-d-2011  2015   139568   \n",
       "1                1   opel  combo         gen-d-2011  2018    31991   \n",
       "2                2   opel  combo         gen-d-2011  2015   278437   \n",
       "3                3   opel  combo         gen-d-2011  2016    47600   \n",
       "4                4   opel  combo         gen-d-2011  2014   103000   \n",
       "...            ...    ...    ...                ...   ...      ...   \n",
       "117922      117922  volvo  xc-90  gen-ii-2014-xc-90  2020    40000   \n",
       "117923      117923  volvo  xc-90  gen-ii-2014-xc-90  2017    51000   \n",
       "117924      117924  volvo  xc-90  gen-ii-2014-xc-90  2016    83500   \n",
       "117925      117925  volvo  xc-90  gen-ii-2014-xc-90  2017   174000   \n",
       "117926      117926  volvo  xc-90  gen-ii-2014-xc-90  2016   189020   \n",
       "\n",
       "        vol_engine      fuel              city       province   price  \n",
       "0             1248    Diesel             Janki    Mazowieckie   35900  \n",
       "1             1499    Diesel          Katowice        Śląskie   78501  \n",
       "2             1598    Diesel             Brzeg       Opolskie   27000  \n",
       "3             1248    Diesel         Korfantów       Opolskie   30800  \n",
       "4             1400       CNG   Tarnowskie Góry        Śląskie   35900  \n",
       "...            ...       ...               ...            ...     ...  \n",
       "117922        1969    Hybrid          Katowice        Śląskie  222790  \n",
       "117923        1969    Diesel  Chechło Pierwsze        Łódzkie  229900  \n",
       "117924        1969  Gasoline   Pruszcz Gdański      Pomorskie  135000  \n",
       "117925        1969    Diesel            Kalisz  Wielkopolskie  154500  \n",
       "117926        1969  Gasoline            Sionna    Mazowieckie  130000  \n",
       "\n",
       "[117927 rows x 11 columns]"
      ]
     },
     "execution_count": 3,
     "metadata": {},
     "output_type": "execute_result"
    }
   ],
   "source": [
    "df"
   ]
  },
  {
   "cell_type": "code",
   "execution_count": 4,
   "id": "ec053893",
   "metadata": {},
   "outputs": [
    {
     "data": {
      "text/plain": [
       "(117927, 11)"
      ]
     },
     "execution_count": 4,
     "metadata": {},
     "output_type": "execute_result"
    }
   ],
   "source": [
    "df.shape"
   ]
  },
  {
   "cell_type": "code",
   "execution_count": 5,
   "id": "24cffd05",
   "metadata": {},
   "outputs": [
    {
     "data": {
      "text/html": [
       "<div>\n",
       "<style scoped>\n",
       "    .dataframe tbody tr th:only-of-type {\n",
       "        vertical-align: middle;\n",
       "    }\n",
       "\n",
       "    .dataframe tbody tr th {\n",
       "        vertical-align: top;\n",
       "    }\n",
       "\n",
       "    .dataframe thead th {\n",
       "        text-align: right;\n",
       "    }\n",
       "</style>\n",
       "<table border=\"1\" class=\"dataframe\">\n",
       "  <thead>\n",
       "    <tr style=\"text-align: right;\">\n",
       "      <th></th>\n",
       "      <th>Unnamed: 0</th>\n",
       "      <th>year</th>\n",
       "      <th>mileage</th>\n",
       "      <th>vol_engine</th>\n",
       "      <th>price</th>\n",
       "    </tr>\n",
       "  </thead>\n",
       "  <tbody>\n",
       "    <tr>\n",
       "      <th>count</th>\n",
       "      <td>117927.000000</td>\n",
       "      <td>117927.000000</td>\n",
       "      <td>1.179270e+05</td>\n",
       "      <td>117927.000000</td>\n",
       "      <td>1.179270e+05</td>\n",
       "    </tr>\n",
       "    <tr>\n",
       "      <th>mean</th>\n",
       "      <td>58963.000000</td>\n",
       "      <td>2012.925259</td>\n",
       "      <td>1.409768e+05</td>\n",
       "      <td>1812.057782</td>\n",
       "      <td>7.029988e+04</td>\n",
       "    </tr>\n",
       "    <tr>\n",
       "      <th>std</th>\n",
       "      <td>34042.736935</td>\n",
       "      <td>5.690135</td>\n",
       "      <td>9.236936e+04</td>\n",
       "      <td>643.613438</td>\n",
       "      <td>8.482458e+04</td>\n",
       "    </tr>\n",
       "    <tr>\n",
       "      <th>min</th>\n",
       "      <td>0.000000</td>\n",
       "      <td>1945.000000</td>\n",
       "      <td>0.000000e+00</td>\n",
       "      <td>0.000000</td>\n",
       "      <td>5.000000e+02</td>\n",
       "    </tr>\n",
       "    <tr>\n",
       "      <th>25%</th>\n",
       "      <td>29481.500000</td>\n",
       "      <td>2009.000000</td>\n",
       "      <td>6.700000e+04</td>\n",
       "      <td>1461.000000</td>\n",
       "      <td>2.100000e+04</td>\n",
       "    </tr>\n",
       "    <tr>\n",
       "      <th>50%</th>\n",
       "      <td>58963.000000</td>\n",
       "      <td>2013.000000</td>\n",
       "      <td>1.462690e+05</td>\n",
       "      <td>1796.000000</td>\n",
       "      <td>4.190000e+04</td>\n",
       "    </tr>\n",
       "    <tr>\n",
       "      <th>75%</th>\n",
       "      <td>88444.500000</td>\n",
       "      <td>2018.000000</td>\n",
       "      <td>2.030000e+05</td>\n",
       "      <td>1995.000000</td>\n",
       "      <td>8.360000e+04</td>\n",
       "    </tr>\n",
       "    <tr>\n",
       "      <th>max</th>\n",
       "      <td>117926.000000</td>\n",
       "      <td>2022.000000</td>\n",
       "      <td>2.800000e+06</td>\n",
       "      <td>7600.000000</td>\n",
       "      <td>2.399900e+06</td>\n",
       "    </tr>\n",
       "  </tbody>\n",
       "</table>\n",
       "</div>"
      ],
      "text/plain": [
       "          Unnamed: 0           year       mileage     vol_engine         price\n",
       "count  117927.000000  117927.000000  1.179270e+05  117927.000000  1.179270e+05\n",
       "mean    58963.000000    2012.925259  1.409768e+05    1812.057782  7.029988e+04\n",
       "std     34042.736935       5.690135  9.236936e+04     643.613438  8.482458e+04\n",
       "min         0.000000    1945.000000  0.000000e+00       0.000000  5.000000e+02\n",
       "25%     29481.500000    2009.000000  6.700000e+04    1461.000000  2.100000e+04\n",
       "50%     58963.000000    2013.000000  1.462690e+05    1796.000000  4.190000e+04\n",
       "75%     88444.500000    2018.000000  2.030000e+05    1995.000000  8.360000e+04\n",
       "max    117926.000000    2022.000000  2.800000e+06    7600.000000  2.399900e+06"
      ]
     },
     "execution_count": 5,
     "metadata": {},
     "output_type": "execute_result"
    }
   ],
   "source": [
    "df.describe()"
   ]
  },
  {
   "cell_type": "code",
   "execution_count": 6,
   "id": "a93c8167",
   "metadata": {},
   "outputs": [
    {
     "data": {
      "text/plain": [
       "Unnamed: 0          int64\n",
       "mark               object\n",
       "model              object\n",
       "generation_name    object\n",
       "year                int64\n",
       "mileage             int64\n",
       "vol_engine          int64\n",
       "fuel               object\n",
       "city               object\n",
       "province           object\n",
       "price               int64\n",
       "dtype: object"
      ]
     },
     "execution_count": 6,
     "metadata": {},
     "output_type": "execute_result"
    }
   ],
   "source": [
    "df.dtypes"
   ]
  },
  {
   "cell_type": "code",
   "execution_count": 7,
   "id": "8c5069ee",
   "metadata": {},
   "outputs": [
    {
     "data": {
      "text/plain": [
       "Index(['Unnamed: 0', 'mark', 'model', 'generation_name', 'year', 'mileage',\n",
       "       'vol_engine', 'fuel', 'city', 'province', 'price'],\n",
       "      dtype='object')"
      ]
     },
     "execution_count": 7,
     "metadata": {},
     "output_type": "execute_result"
    }
   ],
   "source": [
    "df.columns"
   ]
  },
  {
   "cell_type": "markdown",
   "id": "53fe4b4f",
   "metadata": {},
   "source": [
    "## Data Cleaning"
   ]
  },
  {
   "cell_type": "markdown",
   "id": "67d4c7a7",
   "metadata": {},
   "source": [
    "### Drop Unnecessary Columns"
   ]
  },
  {
   "cell_type": "code",
   "execution_count": 8,
   "id": "10e0eb82",
   "metadata": {},
   "outputs": [
    {
     "data": {
      "text/html": [
       "<div>\n",
       "<style scoped>\n",
       "    .dataframe tbody tr th:only-of-type {\n",
       "        vertical-align: middle;\n",
       "    }\n",
       "\n",
       "    .dataframe tbody tr th {\n",
       "        vertical-align: top;\n",
       "    }\n",
       "\n",
       "    .dataframe thead th {\n",
       "        text-align: right;\n",
       "    }\n",
       "</style>\n",
       "<table border=\"1\" class=\"dataframe\">\n",
       "  <thead>\n",
       "    <tr style=\"text-align: right;\">\n",
       "      <th></th>\n",
       "      <th>mark</th>\n",
       "      <th>model</th>\n",
       "      <th>year</th>\n",
       "      <th>mileage</th>\n",
       "      <th>vol_engine</th>\n",
       "      <th>fuel</th>\n",
       "      <th>city</th>\n",
       "      <th>province</th>\n",
       "      <th>price</th>\n",
       "    </tr>\n",
       "  </thead>\n",
       "  <tbody>\n",
       "    <tr>\n",
       "      <th>0</th>\n",
       "      <td>opel</td>\n",
       "      <td>combo</td>\n",
       "      <td>2015</td>\n",
       "      <td>139568</td>\n",
       "      <td>1248</td>\n",
       "      <td>Diesel</td>\n",
       "      <td>Janki</td>\n",
       "      <td>Mazowieckie</td>\n",
       "      <td>35900</td>\n",
       "    </tr>\n",
       "    <tr>\n",
       "      <th>1</th>\n",
       "      <td>opel</td>\n",
       "      <td>combo</td>\n",
       "      <td>2018</td>\n",
       "      <td>31991</td>\n",
       "      <td>1499</td>\n",
       "      <td>Diesel</td>\n",
       "      <td>Katowice</td>\n",
       "      <td>Śląskie</td>\n",
       "      <td>78501</td>\n",
       "    </tr>\n",
       "    <tr>\n",
       "      <th>2</th>\n",
       "      <td>opel</td>\n",
       "      <td>combo</td>\n",
       "      <td>2015</td>\n",
       "      <td>278437</td>\n",
       "      <td>1598</td>\n",
       "      <td>Diesel</td>\n",
       "      <td>Brzeg</td>\n",
       "      <td>Opolskie</td>\n",
       "      <td>27000</td>\n",
       "    </tr>\n",
       "    <tr>\n",
       "      <th>3</th>\n",
       "      <td>opel</td>\n",
       "      <td>combo</td>\n",
       "      <td>2016</td>\n",
       "      <td>47600</td>\n",
       "      <td>1248</td>\n",
       "      <td>Diesel</td>\n",
       "      <td>Korfantów</td>\n",
       "      <td>Opolskie</td>\n",
       "      <td>30800</td>\n",
       "    </tr>\n",
       "    <tr>\n",
       "      <th>4</th>\n",
       "      <td>opel</td>\n",
       "      <td>combo</td>\n",
       "      <td>2014</td>\n",
       "      <td>103000</td>\n",
       "      <td>1400</td>\n",
       "      <td>CNG</td>\n",
       "      <td>Tarnowskie Góry</td>\n",
       "      <td>Śląskie</td>\n",
       "      <td>35900</td>\n",
       "    </tr>\n",
       "    <tr>\n",
       "      <th>...</th>\n",
       "      <td>...</td>\n",
       "      <td>...</td>\n",
       "      <td>...</td>\n",
       "      <td>...</td>\n",
       "      <td>...</td>\n",
       "      <td>...</td>\n",
       "      <td>...</td>\n",
       "      <td>...</td>\n",
       "      <td>...</td>\n",
       "    </tr>\n",
       "    <tr>\n",
       "      <th>117922</th>\n",
       "      <td>volvo</td>\n",
       "      <td>xc-90</td>\n",
       "      <td>2020</td>\n",
       "      <td>40000</td>\n",
       "      <td>1969</td>\n",
       "      <td>Hybrid</td>\n",
       "      <td>Katowice</td>\n",
       "      <td>Śląskie</td>\n",
       "      <td>222790</td>\n",
       "    </tr>\n",
       "    <tr>\n",
       "      <th>117923</th>\n",
       "      <td>volvo</td>\n",
       "      <td>xc-90</td>\n",
       "      <td>2017</td>\n",
       "      <td>51000</td>\n",
       "      <td>1969</td>\n",
       "      <td>Diesel</td>\n",
       "      <td>Chechło Pierwsze</td>\n",
       "      <td>Łódzkie</td>\n",
       "      <td>229900</td>\n",
       "    </tr>\n",
       "    <tr>\n",
       "      <th>117924</th>\n",
       "      <td>volvo</td>\n",
       "      <td>xc-90</td>\n",
       "      <td>2016</td>\n",
       "      <td>83500</td>\n",
       "      <td>1969</td>\n",
       "      <td>Gasoline</td>\n",
       "      <td>Pruszcz Gdański</td>\n",
       "      <td>Pomorskie</td>\n",
       "      <td>135000</td>\n",
       "    </tr>\n",
       "    <tr>\n",
       "      <th>117925</th>\n",
       "      <td>volvo</td>\n",
       "      <td>xc-90</td>\n",
       "      <td>2017</td>\n",
       "      <td>174000</td>\n",
       "      <td>1969</td>\n",
       "      <td>Diesel</td>\n",
       "      <td>Kalisz</td>\n",
       "      <td>Wielkopolskie</td>\n",
       "      <td>154500</td>\n",
       "    </tr>\n",
       "    <tr>\n",
       "      <th>117926</th>\n",
       "      <td>volvo</td>\n",
       "      <td>xc-90</td>\n",
       "      <td>2016</td>\n",
       "      <td>189020</td>\n",
       "      <td>1969</td>\n",
       "      <td>Gasoline</td>\n",
       "      <td>Sionna</td>\n",
       "      <td>Mazowieckie</td>\n",
       "      <td>130000</td>\n",
       "    </tr>\n",
       "  </tbody>\n",
       "</table>\n",
       "<p>117927 rows × 9 columns</p>\n",
       "</div>"
      ],
      "text/plain": [
       "         mark  model  year  mileage  vol_engine      fuel              city  \\\n",
       "0        opel  combo  2015   139568        1248    Diesel             Janki   \n",
       "1        opel  combo  2018    31991        1499    Diesel          Katowice   \n",
       "2        opel  combo  2015   278437        1598    Diesel             Brzeg   \n",
       "3        opel  combo  2016    47600        1248    Diesel         Korfantów   \n",
       "4        opel  combo  2014   103000        1400       CNG   Tarnowskie Góry   \n",
       "...       ...    ...   ...      ...         ...       ...               ...   \n",
       "117922  volvo  xc-90  2020    40000        1969    Hybrid          Katowice   \n",
       "117923  volvo  xc-90  2017    51000        1969    Diesel  Chechło Pierwsze   \n",
       "117924  volvo  xc-90  2016    83500        1969  Gasoline   Pruszcz Gdański   \n",
       "117925  volvo  xc-90  2017   174000        1969    Diesel            Kalisz   \n",
       "117926  volvo  xc-90  2016   189020        1969  Gasoline            Sionna   \n",
       "\n",
       "             province   price  \n",
       "0         Mazowieckie   35900  \n",
       "1             Śląskie   78501  \n",
       "2            Opolskie   27000  \n",
       "3            Opolskie   30800  \n",
       "4             Śląskie   35900  \n",
       "...               ...     ...  \n",
       "117922        Śląskie  222790  \n",
       "117923        Łódzkie  229900  \n",
       "117924      Pomorskie  135000  \n",
       "117925  Wielkopolskie  154500  \n",
       "117926    Mazowieckie  130000  \n",
       "\n",
       "[117927 rows x 9 columns]"
      ]
     },
     "execution_count": 8,
     "metadata": {},
     "output_type": "execute_result"
    }
   ],
   "source": [
    "df = df.drop(columns = ['Unnamed: 0','generation_name'])\n",
    "df"
   ]
  },
  {
   "cell_type": "markdown",
   "id": "44de1dc0",
   "metadata": {},
   "source": [
    "### Check For NaN Values"
   ]
  },
  {
   "cell_type": "code",
   "execution_count": 9,
   "id": "ecb6bc56",
   "metadata": {},
   "outputs": [
    {
     "data": {
      "text/plain": [
       "mark          0\n",
       "model         0\n",
       "year          0\n",
       "mileage       0\n",
       "vol_engine    0\n",
       "fuel          0\n",
       "city          0\n",
       "province      0\n",
       "price         0\n",
       "dtype: int64"
      ]
     },
     "execution_count": 9,
     "metadata": {},
     "output_type": "execute_result"
    }
   ],
   "source": [
    "df.isna().sum()"
   ]
  },
  {
   "cell_type": "markdown",
   "id": "966e666e",
   "metadata": {},
   "source": [
    "### Check & Revome  Duplicates"
   ]
  },
  {
   "cell_type": "code",
   "execution_count": 10,
   "id": "95a6fe4c",
   "metadata": {},
   "outputs": [
    {
     "data": {
      "text/plain": [
       "6761"
      ]
     },
     "execution_count": 10,
     "metadata": {},
     "output_type": "execute_result"
    }
   ],
   "source": [
    "df.duplicated().sum()"
   ]
  },
  {
   "cell_type": "code",
   "execution_count": 11,
   "id": "3483bf1a",
   "metadata": {},
   "outputs": [],
   "source": [
    "df = df.drop_duplicates()"
   ]
  },
  {
   "cell_type": "code",
   "execution_count": 12,
   "id": "67222fd8",
   "metadata": {},
   "outputs": [
    {
     "data": {
      "text/plain": [
       "0"
      ]
     },
     "execution_count": 12,
     "metadata": {},
     "output_type": "execute_result"
    }
   ],
   "source": [
    "df.duplicated().sum()"
   ]
  },
  {
   "cell_type": "markdown",
   "id": "e2c41956",
   "metadata": {},
   "source": [
    "### Count for Unique Values for Cars"
   ]
  },
  {
   "cell_type": "code",
   "execution_count": 13,
   "id": "d44a591d",
   "metadata": {},
   "outputs": [
    {
     "data": {
      "text/plain": [
       "audi             10873\n",
       "bmw              10729\n",
       "volkswagen       10468\n",
       "opel             10014\n",
       "ford              9375\n",
       "renault           6789\n",
       "mercedes-benz     6782\n",
       "skoda             5722\n",
       "peugeot           4981\n",
       "toyota            4976\n",
       "hyundai           3912\n",
       "kia               3558\n",
       "volvo             3340\n",
       "nissan            3051\n",
       "mazda             2808\n",
       "seat              2797\n",
       "fiat              2773\n",
       "citroen           2712\n",
       "honda             2062\n",
       "mini              1076\n",
       "mitsubishi        1076\n",
       "alfa-romeo         686\n",
       "chevrolet          606\n",
       "Name: mark, dtype: int64"
      ]
     },
     "execution_count": 13,
     "metadata": {},
     "output_type": "execute_result"
    }
   ],
   "source": [
    "df['mark'].value_counts()"
   ]
  },
  {
   "cell_type": "markdown",
   "id": "c9243ed8",
   "metadata": {},
   "source": [
    "### Count for Unique Values for Fuel Types"
   ]
  },
  {
   "cell_type": "code",
   "execution_count": 14,
   "id": "d1f3d80c",
   "metadata": {},
   "outputs": [
    {
     "data": {
      "text/plain": [
       "Gasoline    58145\n",
       "Diesel      45848\n",
       "LPG          4097\n",
       "Hybrid       2281\n",
       "Electric      753\n",
       "CNG            42\n",
       "Name: fuel, dtype: int64"
      ]
     },
     "execution_count": 14,
     "metadata": {},
     "output_type": "execute_result"
    }
   ],
   "source": [
    "df['fuel'].value_counts()"
   ]
  },
  {
   "cell_type": "markdown",
   "id": "5db3748e",
   "metadata": {},
   "source": [
    "### Mean Prices by Mark"
   ]
  },
  {
   "cell_type": "code",
   "execution_count": 15,
   "id": "a4868537",
   "metadata": {},
   "outputs": [
    {
     "data": {
      "text/plain": [
       "mark\n",
       "mercedes-benz    135598.585963\n",
       "bmw              121183.286793\n",
       "audi             105392.749011\n",
       "volvo             92472.250599\n",
       "mini              71536.833643\n",
       "alfa-romeo        65794.752187\n",
       "volkswagen        61870.866546\n",
       "skoda             61279.840091\n",
       "kia               58181.175942\n",
       "mazda             56388.569801\n",
       "toyota            53973.644494\n",
       "hyundai           53521.120143\n",
       "ford              50741.506560\n",
       "nissan            49266.230416\n",
       "mitsubishi        48950.999071\n",
       "honda             47623.768671\n",
       "peugeot           46305.361976\n",
       "renault           44726.374577\n",
       "chevrolet         40359.453795\n",
       "seat              39505.400787\n",
       "fiat              38196.479986\n",
       "opel              36367.216597\n",
       "citroen           33999.633850\n",
       "Name: price, dtype: float64"
      ]
     },
     "execution_count": 15,
     "metadata": {},
     "output_type": "execute_result"
    }
   ],
   "source": [
    "df.groupby('mark')['price'].mean().sort_values(ascending = False)"
   ]
  },
  {
   "cell_type": "markdown",
   "id": "ed94f18b",
   "metadata": {},
   "source": [
    "### Sort the DataFrame by Price Values"
   ]
  },
  {
   "cell_type": "code",
   "execution_count": 16,
   "id": "5c491ef2",
   "metadata": {},
   "outputs": [],
   "source": [
    "df = df.sort_values(by = 'price', ascending = False).reset_index(drop=True)"
   ]
  },
  {
   "cell_type": "markdown",
   "id": "72bd8fa9",
   "metadata": {},
   "source": [
    "## Data Visualization"
   ]
  },
  {
   "cell_type": "markdown",
   "id": "877ab5ca",
   "metadata": {},
   "source": [
    "### Plot a Correlation Heatmap"
   ]
  },
  {
   "cell_type": "code",
   "execution_count": 17,
   "id": "6466e5d3",
   "metadata": {},
   "outputs": [
    {
     "data": {
      "image/png": "[encoded data removed]",
      "text/plain": [
       "<Figure size 432x288 with 2 Axes>"
      ]
     },
     "metadata": {
      "needs_background": "light"
     },
     "output_type": "display_data"
    }
   ],
   "source": [
    "sns.heatmap(df.corr(), annot = True)\n",
    "\n",
    "plt.rcParams['figure.figsize'] = (22, 14)\n",
    "\n",
    "plt.xticks(rotation=45, horizontalalignment='right')\n",
    "\n",
    "plt.title('Correlation Heatmap')\n",
    "\n",
    "plt.show()"
   ]
  },
  {
   "cell_type": "markdown",
   "id": "daeb7e71",
   "metadata": {},
   "source": [
    "There's a reasonably strong inverse relationship betwwen mileage and year! "
   ]
  },
  {
   "cell_type": "markdown",
   "id": "4fd9376d",
   "metadata": {},
   "source": [
    "### Distribution of Car Years"
   ]
  },
  {
   "cell_type": "code",
   "execution_count": 18,
   "id": "4e8a26cc",
   "metadata": {},
   "outputs": [
    {
     "data": {
      "text/plain": [
       "2012.8836064983898"
      ]
     },
     "execution_count": 18,
     "metadata": {},
     "output_type": "execute_result"
    }
   ],
   "source": [
    "mean = df['year'].mean()\n",
    "mean"
   ]
  },
  {
   "cell_type": "code",
   "execution_count": 19,
   "id": "a7b60c2c",
   "metadata": {},
   "outputs": [
    {
     "data": {
      "image/png": "[encoded data removed]",
      "text/plain": [
       "<Figure size 1584x1008 with 1 Axes>"
      ]
     },
     "metadata": {
      "needs_background": "light"
     },
     "output_type": "display_data"
    }
   ],
   "source": [
    "df['year'].plot.hist(bins=30)\n",
    "\n",
    "#Plot the mean \n",
    "plt.axvline(x=mean, color='r', linestyle = '--', label = 'mean')\n",
    "\n",
    "#plot legend\n",
    "plt.legend(bbox_to_anchor=(1,1))\n",
    "\n",
    "#plot axis-name & chart title\n",
    "plt.xlabel('Model Year', fontsize=12)\n",
    "\n",
    "plt.title(' Distribution of Car Years', fontsize=18)\n",
    "\n",
    "plt.show()\n"
   ]
  },
  {
   "cell_type": "markdown",
   "id": "dad74c66",
   "metadata": {},
   "source": [
    "### Scatter Plot of Milleage and Price"
   ]
  },
  {
   "cell_type": "code",
   "execution_count": 20,
   "id": "3e24a1f5",
   "metadata": {},
   "outputs": [
    {
     "data": {
      "image/png": "[encoded data removed]",
      "text/plain": [
       "<Figure size 1584x1008 with 1 Axes>"
      ]
     },
     "metadata": {
      "needs_background": "light"
     },
     "output_type": "display_data"
    }
   ],
   "source": [
    "plt.scatter(df['mileage'], df['price'], alpha = 1)\n",
    "plt.xlabel('Mileage')\n",
    "plt.ylabel('Price')\n",
    "plt.title('Scatter plot of mileage - price')\n",
    "plt.show()"
   ]
  },
  {
   "cell_type": "markdown",
   "id": "44365ebe",
   "metadata": {},
   "source": [
    "The Scatter plot illustrates that as the mileage decreases, the price increases!"
   ]
  },
  {
   "cell_type": "markdown",
   "id": "7822ac8a",
   "metadata": {},
   "source": [
    "### Average Price by Mark"
   ]
  },
  {
   "cell_type": "code",
   "execution_count": 21,
   "id": "3841de71",
   "metadata": {},
   "outputs": [
    {
     "data": {
      "text/plain": [
       "mark\n",
       "mercedes-benz    135598.585963\n",
       "bmw              121183.286793\n",
       "audi             105392.749011\n",
       "volvo             92472.250599\n",
       "mini              71536.833643\n",
       "alfa-romeo        65794.752187\n",
       "volkswagen        61870.866546\n",
       "skoda             61279.840091\n",
       "kia               58181.175942\n",
       "mazda             56388.569801\n",
       "toyota            53973.644494\n",
       "hyundai           53521.120143\n",
       "ford              50741.506560\n",
       "nissan            49266.230416\n",
       "mitsubishi        48950.999071\n",
       "honda             47623.768671\n",
       "peugeot           46305.361976\n",
       "renault           44726.374577\n",
       "chevrolet         40359.453795\n",
       "seat              39505.400787\n",
       "fiat              38196.479986\n",
       "opel              36367.216597\n",
       "citroen           33999.633850\n",
       "Name: price, dtype: float64"
      ]
     },
     "execution_count": 21,
     "metadata": {},
     "output_type": "execute_result"
    }
   ],
   "source": [
    "mean_price_by_mark =  df.groupby('mark')['price'].mean().sort_values(ascending = False)\n",
    "mean_price_by_mark"
   ]
  },
  {
   "cell_type": "code",
   "execution_count": 22,
   "id": "77448651",
   "metadata": {},
   "outputs": [
    {
     "data": {
      "image/png": "[encoded data removed]",
      "text/plain": [
       "<Figure size 1584x1008 with 1 Axes>"
      ]
     },
     "metadata": {
      "needs_background": "light"
     },
     "output_type": "display_data"
    }
   ],
   "source": [
    "ax = mean_price_by_mark.plot(kind = 'bar')\n",
    "\n",
    "plt.xlabel('Car Mark')\n",
    "plt.xticks(rotation=45, horizontalalignment='right')\n",
    "plt.ylabel('Average Price')\n",
    "plt.title('Average Price by Car Mark')\n",
    "\n",
    "\n",
    "#Add the count numbers on top of the bars\n",
    "#for bar in ax.patches:\n",
    "    #height = bar.get_height()\n",
    "   # ax.text(bar.get_x() + bar.get_width() / 2., height + 0.1, f'{height:.2f}', ha='center', va='bottom', rotation='45')\n",
    "\n",
    "\n",
    "    \n",
    "plt.show()"
   ]
  },
  {
   "cell_type": "markdown",
   "id": "bdf99fb7",
   "metadata": {},
   "source": [
    "### Boxplot of Car Prices"
   ]
  },
  {
   "cell_type": "code",
   "execution_count": 23,
   "id": "e5abe42e",
   "metadata": {},
   "outputs": [
    {
     "data": {
      "image/png": "[encoded data removed]",
      "text/plain": [
       "<Figure size 1584x1008 with 1 Axes>"
      ]
     },
     "metadata": {
      "needs_background": "light"
     },
     "output_type": "display_data"
    }
   ],
   "source": [
    "sns.boxplot(x = 'price', data = df)\n",
    "plt.title('Box Plot of Car Prices')\n",
    "plt.show()"
   ]
  },
  {
   "cell_type": "markdown",
   "id": "2b485ad2",
   "metadata": {},
   "source": [
    "The boxplot shows a few outliers in price range. we will use another form of boxplot to identify where the upper 3rd quartile ends."
   ]
  },
  {
   "cell_type": "code",
   "execution_count": 24,
   "id": "1b6a3bc1",
   "metadata": {},
   "outputs": [
    {
     "data": {
      "image/png": "[encoded data removed]",
      "text/plain": [
       "<Figure size 1584x1008 with 1 Axes>"
      ]
     },
     "metadata": {
      "needs_background": "light"
     },
     "output_type": "display_data"
    }
   ],
   "source": [
    "g = sns.boxplot(data=df['price'],\n",
    "showfliers=False\n",
    ");\n",
    "g.set_title('Boxplot');"
   ]
  },
  {
   "cell_type": "markdown",
   "id": "c82e16bd",
   "metadata": {},
   "source": [
    "It looks like the 3rd quartile at the price of around €8,000"
   ]
  },
  {
   "cell_type": "markdown",
   "id": "ba48ad58",
   "metadata": {},
   "source": [
    "### Top 10 Most Common Car Models"
   ]
  },
  {
   "cell_type": "code",
   "execution_count": 25,
   "id": "4451e484",
   "metadata": {},
   "outputs": [
    {
     "data": {
      "text/plain": [
       "astra      3184\n",
       "seria-3    2912\n",
       "a4         2893\n",
       "golf       2511\n",
       "seria-5    2424\n",
       "a6         2410\n",
       "focus      2126\n",
       "octavia    1996\n",
       "passat     1977\n",
       "mondeo     1845\n",
       "Name: model, dtype: int64"
      ]
     },
     "execution_count": 25,
     "metadata": {},
     "output_type": "execute_result"
    }
   ],
   "source": [
    "Top_10_models = df['model'].value_counts().head(10)\n",
    "Top_10_models"
   ]
  },
  {
   "cell_type": "code",
   "execution_count": 26,
   "id": "5c891af4",
   "metadata": {},
   "outputs": [
    {
     "data": {
      "image/png": "[encoded data removed]",
      "text/plain": [
       "<Figure size 1584x1008 with 1 Axes>"
      ]
     },
     "metadata": {
      "needs_background": "light"
     },
     "output_type": "display_data"
    }
   ],
   "source": [
    "ax = Top_10_models.plot(kind = 'bar')\n",
    "\n",
    "plt.xlabel('Car Model')\n",
    "plt.xticks(rotation=45, horizontalalignment='right')\n",
    "plt.ylabel('Frequency')\n",
    "plt.title('Top 10 Most Common Car Models')\n",
    "\n",
    "\n",
    "#Add the count numbers on top of the bars\n",
    "for bar in ax.patches:\n",
    "    height = bar.get_height()\n",
    "    ax.text(bar.get_x() + bar.get_width() / 2., height + 0.1, f'{height:.2f}', ha='center', va='bottom', rotation='45')\n",
    "\n",
    "\n",
    "    \n",
    "plt.show()"
   ]
  },
  {
   "cell_type": "markdown",
   "id": "849ecdce",
   "metadata": {},
   "source": [
    "### Scatter Plot of Engine Size and Price"
   ]
  },
  {
   "cell_type": "code",
   "execution_count": 27,
   "id": "0dfa6e78",
   "metadata": {},
   "outputs": [
    {
     "data": {
      "image/png": "[encoded data removed]",
      "text/plain": [
       "<Figure size 1584x1008 with 1 Axes>"
      ]
     },
     "metadata": {
      "needs_background": "light"
     },
     "output_type": "display_data"
    }
   ],
   "source": [
    "plt.scatter(df['vol_engine'], df['price'], alpha = 0.5)\n",
    "plt.xlabel('Engine Size')\n",
    "plt.ylabel('Price')\n",
    "plt.title('Scatter Plot of Engine Size - Price')\n",
    "plt.show()"
   ]
  },
  {
   "cell_type": "markdown",
   "id": "94cc19ce",
   "metadata": {},
   "source": [
    "### Count of Cars in Each City"
   ]
  },
  {
   "cell_type": "code",
   "execution_count": 28,
   "id": "320e8f47",
   "metadata": {},
   "outputs": [
    {
     "data": {
      "text/plain": [
       "Warszawa    7459\n",
       "Łódź        3084\n",
       "Kraków      2730\n",
       "Wrocław     2569\n",
       "Poznań      2236\n",
       "Gdańsk      2165\n",
       "Katowice    2068\n",
       "Lublin      1721\n",
       "Radom       1507\n",
       "Szczecin    1372\n",
       "Name: city, dtype: int64"
      ]
     },
     "execution_count": 28,
     "metadata": {},
     "output_type": "execute_result"
    }
   ],
   "source": [
    "city_counts = df['city'].value_counts().sort_values(ascending = False).head(10)\n",
    "city_counts"
   ]
  },
  {
   "cell_type": "code",
   "execution_count": 29,
   "id": "bb55ec25",
   "metadata": {},
   "outputs": [
    {
     "data": {
      "image/png": "[encoded data removed]",
      "text/plain": [
       "<Figure size 1584x1008 with 1 Axes>"
      ]
     },
     "metadata": {
      "needs_background": "light"
     },
     "output_type": "display_data"
    }
   ],
   "source": [
    "ax = city_counts.plot(kind = 'bar')\n",
    "\n",
    "plt.xlabel('City')\n",
    "plt.xticks(rotation=45, horizontalalignment='right')\n",
    "plt.ylabel('Frequency')\n",
    "plt.title('Cities with Most Number of Cars')\n",
    "\n",
    "\n",
    "#Add the count numbers on top of the bars\n",
    "for bar in ax.patches:\n",
    "    height = bar.get_height()\n",
    "    ax.text(bar.get_x() + bar.get_width() / 2., height + 0.1, f'{height:.2f}', ha='center', va='bottom', rotation='45')\n",
    "\n",
    "\n",
    "    \n",
    "plt.show()"
   ]
  },
  {
   "cell_type": "markdown",
   "id": "23990fff",
   "metadata": {},
   "source": [
    "### Max Engine Size by Fuel Type"
   ]
  },
  {
   "cell_type": "code",
   "execution_count": 30,
   "id": "7c2c644c",
   "metadata": {},
   "outputs": [
    {
     "data": {
      "text/plain": [
       "fuel\n",
       "CNG         2034\n",
       "Diesel      4921\n",
       "Electric    1580\n",
       "Gasoline    7600\n",
       "Hybrid      4395\n",
       "LPG         6208\n",
       "Name: vol_engine, dtype: int64"
      ]
     },
     "execution_count": 30,
     "metadata": {},
     "output_type": "execute_result"
    }
   ],
   "source": [
    "Max_engine_by_fuel_type = df.groupby('fuel')['vol_engine'].max()\n",
    "Max_engine_by_fuel_type"
   ]
  },
  {
   "cell_type": "code",
   "execution_count": 31,
   "id": "8fd6e7db",
   "metadata": {},
   "outputs": [
    {
     "data": {
      "image/png": "[encoded data removed]",
      "text/plain": [
       "<Figure size 1584x1008 with 1 Axes>"
      ]
     },
     "metadata": {},
     "output_type": "display_data"
    }
   ],
   "source": [
    "ax = Max_engine_by_fuel_type.plot(kind='pie', autopct='%1.1f%%')\n",
    "\n",
    "plt.title('Maximum Engine Size by Fuel Type')\n",
    "\n",
    "\n",
    "plt.show()"
   ]
  },
  {
   "cell_type": "markdown",
   "id": "ea98c947",
   "metadata": {},
   "source": [
    "## Feature Engineering"
   ]
  },
  {
   "cell_type": "code",
   "execution_count": 32,
   "id": "24c73266",
   "metadata": {},
   "outputs": [
    {
     "data": {
      "text/html": [
       "<div>\n",
       "<style scoped>\n",
       "    .dataframe tbody tr th:only-of-type {\n",
       "        vertical-align: middle;\n",
       "    }\n",
       "\n",
       "    .dataframe tbody tr th {\n",
       "        vertical-align: top;\n",
       "    }\n",
       "\n",
       "    .dataframe thead th {\n",
       "        text-align: right;\n",
       "    }\n",
       "</style>\n",
       "<table border=\"1\" class=\"dataframe\">\n",
       "  <thead>\n",
       "    <tr style=\"text-align: right;\">\n",
       "      <th></th>\n",
       "      <th>mark</th>\n",
       "      <th>model</th>\n",
       "      <th>year</th>\n",
       "      <th>mileage</th>\n",
       "      <th>vol_engine</th>\n",
       "      <th>fuel</th>\n",
       "      <th>city</th>\n",
       "      <th>province</th>\n",
       "      <th>price</th>\n",
       "    </tr>\n",
       "  </thead>\n",
       "  <tbody>\n",
       "    <tr>\n",
       "      <th>0</th>\n",
       "      <td>mercedes-benz</td>\n",
       "      <td>s-klasa</td>\n",
       "      <td>2017</td>\n",
       "      <td>400</td>\n",
       "      <td>5980</td>\n",
       "      <td>Gasoline</td>\n",
       "      <td>Janki</td>\n",
       "      <td>Mazowieckie</td>\n",
       "      <td>2399900</td>\n",
       "    </tr>\n",
       "    <tr>\n",
       "      <th>1</th>\n",
       "      <td>mercedes-benz</td>\n",
       "      <td>s-klasa</td>\n",
       "      <td>2019</td>\n",
       "      <td>12000</td>\n",
       "      <td>6233</td>\n",
       "      <td>Gasoline</td>\n",
       "      <td>Poznań</td>\n",
       "      <td>Wielkopolskie</td>\n",
       "      <td>1966770</td>\n",
       "    </tr>\n",
       "    <tr>\n",
       "      <th>2</th>\n",
       "      <td>mercedes-benz</td>\n",
       "      <td>s-klasa</td>\n",
       "      <td>2018</td>\n",
       "      <td>21</td>\n",
       "      <td>5980</td>\n",
       "      <td>Gasoline</td>\n",
       "      <td>Warszawa</td>\n",
       "      <td>Mazowieckie</td>\n",
       "      <td>1550000</td>\n",
       "    </tr>\n",
       "    <tr>\n",
       "      <th>3</th>\n",
       "      <td>mercedes-benz</td>\n",
       "      <td>amg-gt</td>\n",
       "      <td>2019</td>\n",
       "      <td>28500</td>\n",
       "      <td>3982</td>\n",
       "      <td>Gasoline</td>\n",
       "      <td>Poznań</td>\n",
       "      <td>Wielkopolskie</td>\n",
       "      <td>1368341</td>\n",
       "    </tr>\n",
       "    <tr>\n",
       "      <th>4</th>\n",
       "      <td>mercedes-benz</td>\n",
       "      <td>amg-gt</td>\n",
       "      <td>2020</td>\n",
       "      <td>16000</td>\n",
       "      <td>3982</td>\n",
       "      <td>Gasoline</td>\n",
       "      <td>Pruszcz Gdański</td>\n",
       "      <td>Pomorskie</td>\n",
       "      <td>1100000</td>\n",
       "    </tr>\n",
       "    <tr>\n",
       "      <th>...</th>\n",
       "      <td>...</td>\n",
       "      <td>...</td>\n",
       "      <td>...</td>\n",
       "      <td>...</td>\n",
       "      <td>...</td>\n",
       "      <td>...</td>\n",
       "      <td>...</td>\n",
       "      <td>...</td>\n",
       "      <td>...</td>\n",
       "    </tr>\n",
       "    <tr>\n",
       "      <th>111161</th>\n",
       "      <td>volkswagen</td>\n",
       "      <td>passat</td>\n",
       "      <td>1998</td>\n",
       "      <td>220000</td>\n",
       "      <td>1781</td>\n",
       "      <td>Gasoline</td>\n",
       "      <td>Pniewy</td>\n",
       "      <td>Wielkopolskie</td>\n",
       "      <td>1250</td>\n",
       "    </tr>\n",
       "    <tr>\n",
       "      <th>111162</th>\n",
       "      <td>volkswagen</td>\n",
       "      <td>golf</td>\n",
       "      <td>1999</td>\n",
       "      <td>190321</td>\n",
       "      <td>1390</td>\n",
       "      <td>Gasoline</td>\n",
       "      <td>Tarnowskie Góry</td>\n",
       "      <td>Śląskie</td>\n",
       "      <td>1000</td>\n",
       "    </tr>\n",
       "    <tr>\n",
       "      <th>111163</th>\n",
       "      <td>toyota</td>\n",
       "      <td>aygo</td>\n",
       "      <td>2019</td>\n",
       "      <td>17123</td>\n",
       "      <td>998</td>\n",
       "      <td>Gasoline</td>\n",
       "      <td>Warblino</td>\n",
       "      <td>Pomorskie</td>\n",
       "      <td>900</td>\n",
       "    </tr>\n",
       "    <tr>\n",
       "      <th>111164</th>\n",
       "      <td>bmw</td>\n",
       "      <td>seria-3</td>\n",
       "      <td>2004</td>\n",
       "      <td>260000</td>\n",
       "      <td>1995</td>\n",
       "      <td>Diesel</td>\n",
       "      <td>Iława</td>\n",
       "      <td>Warmińsko-mazurskie</td>\n",
       "      <td>900</td>\n",
       "    </tr>\n",
       "    <tr>\n",
       "      <th>111165</th>\n",
       "      <td>volkswagen</td>\n",
       "      <td>golf-plus</td>\n",
       "      <td>2007</td>\n",
       "      <td>300567</td>\n",
       "      <td>1598</td>\n",
       "      <td>Gasoline</td>\n",
       "      <td>Lubachowy</td>\n",
       "      <td>Świętokrzyskie</td>\n",
       "      <td>500</td>\n",
       "    </tr>\n",
       "  </tbody>\n",
       "</table>\n",
       "<p>111166 rows × 9 columns</p>\n",
       "</div>"
      ],
      "text/plain": [
       "                 mark      model  year  mileage  vol_engine      fuel  \\\n",
       "0       mercedes-benz    s-klasa  2017      400        5980  Gasoline   \n",
       "1       mercedes-benz    s-klasa  2019    12000        6233  Gasoline   \n",
       "2       mercedes-benz    s-klasa  2018       21        5980  Gasoline   \n",
       "3       mercedes-benz     amg-gt  2019    28500        3982  Gasoline   \n",
       "4       mercedes-benz     amg-gt  2020    16000        3982  Gasoline   \n",
       "...               ...        ...   ...      ...         ...       ...   \n",
       "111161     volkswagen     passat  1998   220000        1781  Gasoline   \n",
       "111162     volkswagen       golf  1999   190321        1390  Gasoline   \n",
       "111163         toyota       aygo  2019    17123         998  Gasoline   \n",
       "111164            bmw    seria-3  2004   260000        1995    Diesel   \n",
       "111165     volkswagen  golf-plus  2007   300567        1598  Gasoline   \n",
       "\n",
       "                   city             province    price  \n",
       "0                 Janki          Mazowieckie  2399900  \n",
       "1                Poznań        Wielkopolskie  1966770  \n",
       "2              Warszawa          Mazowieckie  1550000  \n",
       "3                Poznań        Wielkopolskie  1368341  \n",
       "4       Pruszcz Gdański            Pomorskie  1100000  \n",
       "...                 ...                  ...      ...  \n",
       "111161           Pniewy        Wielkopolskie     1250  \n",
       "111162  Tarnowskie Góry              Śląskie     1000  \n",
       "111163         Warblino            Pomorskie      900  \n",
       "111164            Iława  Warmińsko-mazurskie      900  \n",
       "111165        Lubachowy       Świętokrzyskie      500  \n",
       "\n",
       "[111166 rows x 9 columns]"
      ]
     },
     "execution_count": 32,
     "metadata": {},
     "output_type": "execute_result"
    }
   ],
   "source": [
    "df"
   ]
  },
  {
   "cell_type": "markdown",
   "id": "de0efc3e",
   "metadata": {},
   "source": [
    "Price will be our target (Y) "
   ]
  },
  {
   "cell_type": "code",
   "execution_count": 33,
   "id": "0366703d",
   "metadata": {},
   "outputs": [],
   "source": [
    "X = df.iloc[:,: -1]"
   ]
  },
  {
   "cell_type": "code",
   "execution_count": 34,
   "id": "770c4899",
   "metadata": {},
   "outputs": [
    {
     "data": {
      "text/html": [
       "<div>\n",
       "<style scoped>\n",
       "    .dataframe tbody tr th:only-of-type {\n",
       "        vertical-align: middle;\n",
       "    }\n",
       "\n",
       "    .dataframe tbody tr th {\n",
       "        vertical-align: top;\n",
       "    }\n",
       "\n",
       "    .dataframe thead th {\n",
       "        text-align: right;\n",
       "    }\n",
       "</style>\n",
       "<table border=\"1\" class=\"dataframe\">\n",
       "  <thead>\n",
       "    <tr style=\"text-align: right;\">\n",
       "      <th></th>\n",
       "      <th>mark</th>\n",
       "      <th>model</th>\n",
       "      <th>year</th>\n",
       "      <th>mileage</th>\n",
       "      <th>vol_engine</th>\n",
       "      <th>fuel</th>\n",
       "      <th>city</th>\n",
       "      <th>province</th>\n",
       "    </tr>\n",
       "  </thead>\n",
       "  <tbody>\n",
       "    <tr>\n",
       "      <th>0</th>\n",
       "      <td>mercedes-benz</td>\n",
       "      <td>s-klasa</td>\n",
       "      <td>2017</td>\n",
       "      <td>400</td>\n",
       "      <td>5980</td>\n",
       "      <td>Gasoline</td>\n",
       "      <td>Janki</td>\n",
       "      <td>Mazowieckie</td>\n",
       "    </tr>\n",
       "    <tr>\n",
       "      <th>1</th>\n",
       "      <td>mercedes-benz</td>\n",
       "      <td>s-klasa</td>\n",
       "      <td>2019</td>\n",
       "      <td>12000</td>\n",
       "      <td>6233</td>\n",
       "      <td>Gasoline</td>\n",
       "      <td>Poznań</td>\n",
       "      <td>Wielkopolskie</td>\n",
       "    </tr>\n",
       "    <tr>\n",
       "      <th>2</th>\n",
       "      <td>mercedes-benz</td>\n",
       "      <td>s-klasa</td>\n",
       "      <td>2018</td>\n",
       "      <td>21</td>\n",
       "      <td>5980</td>\n",
       "      <td>Gasoline</td>\n",
       "      <td>Warszawa</td>\n",
       "      <td>Mazowieckie</td>\n",
       "    </tr>\n",
       "    <tr>\n",
       "      <th>3</th>\n",
       "      <td>mercedes-benz</td>\n",
       "      <td>amg-gt</td>\n",
       "      <td>2019</td>\n",
       "      <td>28500</td>\n",
       "      <td>3982</td>\n",
       "      <td>Gasoline</td>\n",
       "      <td>Poznań</td>\n",
       "      <td>Wielkopolskie</td>\n",
       "    </tr>\n",
       "    <tr>\n",
       "      <th>4</th>\n",
       "      <td>mercedes-benz</td>\n",
       "      <td>amg-gt</td>\n",
       "      <td>2020</td>\n",
       "      <td>16000</td>\n",
       "      <td>3982</td>\n",
       "      <td>Gasoline</td>\n",
       "      <td>Pruszcz Gdański</td>\n",
       "      <td>Pomorskie</td>\n",
       "    </tr>\n",
       "    <tr>\n",
       "      <th>...</th>\n",
       "      <td>...</td>\n",
       "      <td>...</td>\n",
       "      <td>...</td>\n",
       "      <td>...</td>\n",
       "      <td>...</td>\n",
       "      <td>...</td>\n",
       "      <td>...</td>\n",
       "      <td>...</td>\n",
       "    </tr>\n",
       "    <tr>\n",
       "      <th>111161</th>\n",
       "      <td>volkswagen</td>\n",
       "      <td>passat</td>\n",
       "      <td>1998</td>\n",
       "      <td>220000</td>\n",
       "      <td>1781</td>\n",
       "      <td>Gasoline</td>\n",
       "      <td>Pniewy</td>\n",
       "      <td>Wielkopolskie</td>\n",
       "    </tr>\n",
       "    <tr>\n",
       "      <th>111162</th>\n",
       "      <td>volkswagen</td>\n",
       "      <td>golf</td>\n",
       "      <td>1999</td>\n",
       "      <td>190321</td>\n",
       "      <td>1390</td>\n",
       "      <td>Gasoline</td>\n",
       "      <td>Tarnowskie Góry</td>\n",
       "      <td>Śląskie</td>\n",
       "    </tr>\n",
       "    <tr>\n",
       "      <th>111163</th>\n",
       "      <td>toyota</td>\n",
       "      <td>aygo</td>\n",
       "      <td>2019</td>\n",
       "      <td>17123</td>\n",
       "      <td>998</td>\n",
       "      <td>Gasoline</td>\n",
       "      <td>Warblino</td>\n",
       "      <td>Pomorskie</td>\n",
       "    </tr>\n",
       "    <tr>\n",
       "      <th>111164</th>\n",
       "      <td>bmw</td>\n",
       "      <td>seria-3</td>\n",
       "      <td>2004</td>\n",
       "      <td>260000</td>\n",
       "      <td>1995</td>\n",
       "      <td>Diesel</td>\n",
       "      <td>Iława</td>\n",
       "      <td>Warmińsko-mazurskie</td>\n",
       "    </tr>\n",
       "    <tr>\n",
       "      <th>111165</th>\n",
       "      <td>volkswagen</td>\n",
       "      <td>golf-plus</td>\n",
       "      <td>2007</td>\n",
       "      <td>300567</td>\n",
       "      <td>1598</td>\n",
       "      <td>Gasoline</td>\n",
       "      <td>Lubachowy</td>\n",
       "      <td>Świętokrzyskie</td>\n",
       "    </tr>\n",
       "  </tbody>\n",
       "</table>\n",
       "<p>111166 rows × 8 columns</p>\n",
       "</div>"
      ],
      "text/plain": [
       "                 mark      model  year  mileage  vol_engine      fuel  \\\n",
       "0       mercedes-benz    s-klasa  2017      400        5980  Gasoline   \n",
       "1       mercedes-benz    s-klasa  2019    12000        6233  Gasoline   \n",
       "2       mercedes-benz    s-klasa  2018       21        5980  Gasoline   \n",
       "3       mercedes-benz     amg-gt  2019    28500        3982  Gasoline   \n",
       "4       mercedes-benz     amg-gt  2020    16000        3982  Gasoline   \n",
       "...               ...        ...   ...      ...         ...       ...   \n",
       "111161     volkswagen     passat  1998   220000        1781  Gasoline   \n",
       "111162     volkswagen       golf  1999   190321        1390  Gasoline   \n",
       "111163         toyota       aygo  2019    17123         998  Gasoline   \n",
       "111164            bmw    seria-3  2004   260000        1995    Diesel   \n",
       "111165     volkswagen  golf-plus  2007   300567        1598  Gasoline   \n",
       "\n",
       "                   city             province  \n",
       "0                 Janki          Mazowieckie  \n",
       "1                Poznań        Wielkopolskie  \n",
       "2              Warszawa          Mazowieckie  \n",
       "3                Poznań        Wielkopolskie  \n",
       "4       Pruszcz Gdański            Pomorskie  \n",
       "...                 ...                  ...  \n",
       "111161           Pniewy        Wielkopolskie  \n",
       "111162  Tarnowskie Góry              Śląskie  \n",
       "111163         Warblino            Pomorskie  \n",
       "111164            Iława  Warmińsko-mazurskie  \n",
       "111165        Lubachowy       Świętokrzyskie  \n",
       "\n",
       "[111166 rows x 8 columns]"
      ]
     },
     "execution_count": 34,
     "metadata": {},
     "output_type": "execute_result"
    }
   ],
   "source": [
    "X"
   ]
  },
  {
   "cell_type": "code",
   "execution_count": 35,
   "id": "fbddb245",
   "metadata": {},
   "outputs": [],
   "source": [
    "y= df.iloc[:, -1]"
   ]
  },
  {
   "cell_type": "code",
   "execution_count": 36,
   "id": "6084f477",
   "metadata": {},
   "outputs": [
    {
     "data": {
      "text/plain": [
       "0         2399900\n",
       "1         1966770\n",
       "2         1550000\n",
       "3         1368341\n",
       "4         1100000\n",
       "           ...   \n",
       "111161       1250\n",
       "111162       1000\n",
       "111163        900\n",
       "111164        900\n",
       "111165        500\n",
       "Name: price, Length: 111166, dtype: int64"
      ]
     },
     "execution_count": 36,
     "metadata": {},
     "output_type": "execute_result"
    }
   ],
   "source": [
    "y"
   ]
  },
  {
   "cell_type": "markdown",
   "id": "7dd9125c",
   "metadata": {},
   "source": [
    "### Drop Unnecessary Columns from X"
   ]
  },
  {
   "cell_type": "code",
   "execution_count": 37,
   "id": "f8d8b5ba",
   "metadata": {},
   "outputs": [
    {
     "data": {
      "text/html": [
       "<div>\n",
       "<style scoped>\n",
       "    .dataframe tbody tr th:only-of-type {\n",
       "        vertical-align: middle;\n",
       "    }\n",
       "\n",
       "    .dataframe tbody tr th {\n",
       "        vertical-align: top;\n",
       "    }\n",
       "\n",
       "    .dataframe thead th {\n",
       "        text-align: right;\n",
       "    }\n",
       "</style>\n",
       "<table border=\"1\" class=\"dataframe\">\n",
       "  <thead>\n",
       "    <tr style=\"text-align: right;\">\n",
       "      <th></th>\n",
       "      <th>mark</th>\n",
       "      <th>year</th>\n",
       "      <th>mileage</th>\n",
       "      <th>vol_engine</th>\n",
       "      <th>fuel</th>\n",
       "    </tr>\n",
       "  </thead>\n",
       "  <tbody>\n",
       "    <tr>\n",
       "      <th>0</th>\n",
       "      <td>mercedes-benz</td>\n",
       "      <td>2017</td>\n",
       "      <td>400</td>\n",
       "      <td>5980</td>\n",
       "      <td>Gasoline</td>\n",
       "    </tr>\n",
       "    <tr>\n",
       "      <th>1</th>\n",
       "      <td>mercedes-benz</td>\n",
       "      <td>2019</td>\n",
       "      <td>12000</td>\n",
       "      <td>6233</td>\n",
       "      <td>Gasoline</td>\n",
       "    </tr>\n",
       "    <tr>\n",
       "      <th>2</th>\n",
       "      <td>mercedes-benz</td>\n",
       "      <td>2018</td>\n",
       "      <td>21</td>\n",
       "      <td>5980</td>\n",
       "      <td>Gasoline</td>\n",
       "    </tr>\n",
       "    <tr>\n",
       "      <th>3</th>\n",
       "      <td>mercedes-benz</td>\n",
       "      <td>2019</td>\n",
       "      <td>28500</td>\n",
       "      <td>3982</td>\n",
       "      <td>Gasoline</td>\n",
       "    </tr>\n",
       "    <tr>\n",
       "      <th>4</th>\n",
       "      <td>mercedes-benz</td>\n",
       "      <td>2020</td>\n",
       "      <td>16000</td>\n",
       "      <td>3982</td>\n",
       "      <td>Gasoline</td>\n",
       "    </tr>\n",
       "    <tr>\n",
       "      <th>...</th>\n",
       "      <td>...</td>\n",
       "      <td>...</td>\n",
       "      <td>...</td>\n",
       "      <td>...</td>\n",
       "      <td>...</td>\n",
       "    </tr>\n",
       "    <tr>\n",
       "      <th>111161</th>\n",
       "      <td>volkswagen</td>\n",
       "      <td>1998</td>\n",
       "      <td>220000</td>\n",
       "      <td>1781</td>\n",
       "      <td>Gasoline</td>\n",
       "    </tr>\n",
       "    <tr>\n",
       "      <th>111162</th>\n",
       "      <td>volkswagen</td>\n",
       "      <td>1999</td>\n",
       "      <td>190321</td>\n",
       "      <td>1390</td>\n",
       "      <td>Gasoline</td>\n",
       "    </tr>\n",
       "    <tr>\n",
       "      <th>111163</th>\n",
       "      <td>toyota</td>\n",
       "      <td>2019</td>\n",
       "      <td>17123</td>\n",
       "      <td>998</td>\n",
       "      <td>Gasoline</td>\n",
       "    </tr>\n",
       "    <tr>\n",
       "      <th>111164</th>\n",
       "      <td>bmw</td>\n",
       "      <td>2004</td>\n",
       "      <td>260000</td>\n",
       "      <td>1995</td>\n",
       "      <td>Diesel</td>\n",
       "    </tr>\n",
       "    <tr>\n",
       "      <th>111165</th>\n",
       "      <td>volkswagen</td>\n",
       "      <td>2007</td>\n",
       "      <td>300567</td>\n",
       "      <td>1598</td>\n",
       "      <td>Gasoline</td>\n",
       "    </tr>\n",
       "  </tbody>\n",
       "</table>\n",
       "<p>111166 rows × 5 columns</p>\n",
       "</div>"
      ],
      "text/plain": [
       "                 mark  year  mileage  vol_engine      fuel\n",
       "0       mercedes-benz  2017      400        5980  Gasoline\n",
       "1       mercedes-benz  2019    12000        6233  Gasoline\n",
       "2       mercedes-benz  2018       21        5980  Gasoline\n",
       "3       mercedes-benz  2019    28500        3982  Gasoline\n",
       "4       mercedes-benz  2020    16000        3982  Gasoline\n",
       "...               ...   ...      ...         ...       ...\n",
       "111161     volkswagen  1998   220000        1781  Gasoline\n",
       "111162     volkswagen  1999   190321        1390  Gasoline\n",
       "111163         toyota  2019    17123         998  Gasoline\n",
       "111164            bmw  2004   260000        1995    Diesel\n",
       "111165     volkswagen  2007   300567        1598  Gasoline\n",
       "\n",
       "[111166 rows x 5 columns]"
      ]
     },
     "execution_count": 37,
     "metadata": {},
     "output_type": "execute_result"
    }
   ],
   "source": [
    "X.drop(columns = ['model','city','province'], inplace =True)\n",
    "X"
   ]
  },
  {
   "cell_type": "markdown",
   "id": "85846d5d",
   "metadata": {},
   "source": [
    "### Chnage Categorical Values into Numeric"
   ]
  },
  {
   "cell_type": "code",
   "execution_count": 38,
   "id": "3510f589",
   "metadata": {},
   "outputs": [],
   "source": [
    "labelencoder = preprocessing.LabelEncoder()"
   ]
  },
  {
   "cell_type": "code",
   "execution_count": 39,
   "id": "c57364df",
   "metadata": {},
   "outputs": [
    {
     "data": {
      "text/html": [
       "<div>\n",
       "<style scoped>\n",
       "    .dataframe tbody tr th:only-of-type {\n",
       "        vertical-align: middle;\n",
       "    }\n",
       "\n",
       "    .dataframe tbody tr th {\n",
       "        vertical-align: top;\n",
       "    }\n",
       "\n",
       "    .dataframe thead th {\n",
       "        text-align: right;\n",
       "    }\n",
       "</style>\n",
       "<table border=\"1\" class=\"dataframe\">\n",
       "  <thead>\n",
       "    <tr style=\"text-align: right;\">\n",
       "      <th></th>\n",
       "      <th>mark</th>\n",
       "      <th>year</th>\n",
       "      <th>mileage</th>\n",
       "      <th>vol_engine</th>\n",
       "      <th>fuel</th>\n",
       "    </tr>\n",
       "  </thead>\n",
       "  <tbody>\n",
       "    <tr>\n",
       "      <th>0</th>\n",
       "      <td>11</td>\n",
       "      <td>2017</td>\n",
       "      <td>400</td>\n",
       "      <td>5980</td>\n",
       "      <td>3</td>\n",
       "    </tr>\n",
       "    <tr>\n",
       "      <th>1</th>\n",
       "      <td>11</td>\n",
       "      <td>2019</td>\n",
       "      <td>12000</td>\n",
       "      <td>6233</td>\n",
       "      <td>3</td>\n",
       "    </tr>\n",
       "    <tr>\n",
       "      <th>2</th>\n",
       "      <td>11</td>\n",
       "      <td>2018</td>\n",
       "      <td>21</td>\n",
       "      <td>5980</td>\n",
       "      <td>3</td>\n",
       "    </tr>\n",
       "    <tr>\n",
       "      <th>3</th>\n",
       "      <td>11</td>\n",
       "      <td>2019</td>\n",
       "      <td>28500</td>\n",
       "      <td>3982</td>\n",
       "      <td>3</td>\n",
       "    </tr>\n",
       "    <tr>\n",
       "      <th>4</th>\n",
       "      <td>11</td>\n",
       "      <td>2020</td>\n",
       "      <td>16000</td>\n",
       "      <td>3982</td>\n",
       "      <td>3</td>\n",
       "    </tr>\n",
       "    <tr>\n",
       "      <th>...</th>\n",
       "      <td>...</td>\n",
       "      <td>...</td>\n",
       "      <td>...</td>\n",
       "      <td>...</td>\n",
       "      <td>...</td>\n",
       "    </tr>\n",
       "    <tr>\n",
       "      <th>111161</th>\n",
       "      <td>21</td>\n",
       "      <td>1998</td>\n",
       "      <td>220000</td>\n",
       "      <td>1781</td>\n",
       "      <td>3</td>\n",
       "    </tr>\n",
       "    <tr>\n",
       "      <th>111162</th>\n",
       "      <td>21</td>\n",
       "      <td>1999</td>\n",
       "      <td>190321</td>\n",
       "      <td>1390</td>\n",
       "      <td>3</td>\n",
       "    </tr>\n",
       "    <tr>\n",
       "      <th>111163</th>\n",
       "      <td>20</td>\n",
       "      <td>2019</td>\n",
       "      <td>17123</td>\n",
       "      <td>998</td>\n",
       "      <td>3</td>\n",
       "    </tr>\n",
       "    <tr>\n",
       "      <th>111164</th>\n",
       "      <td>2</td>\n",
       "      <td>2004</td>\n",
       "      <td>260000</td>\n",
       "      <td>1995</td>\n",
       "      <td>1</td>\n",
       "    </tr>\n",
       "    <tr>\n",
       "      <th>111165</th>\n",
       "      <td>21</td>\n",
       "      <td>2007</td>\n",
       "      <td>300567</td>\n",
       "      <td>1598</td>\n",
       "      <td>3</td>\n",
       "    </tr>\n",
       "  </tbody>\n",
       "</table>\n",
       "<p>111166 rows × 5 columns</p>\n",
       "</div>"
      ],
      "text/plain": [
       "        mark  year  mileage  vol_engine  fuel\n",
       "0         11  2017      400        5980     3\n",
       "1         11  2019    12000        6233     3\n",
       "2         11  2018       21        5980     3\n",
       "3         11  2019    28500        3982     3\n",
       "4         11  2020    16000        3982     3\n",
       "...      ...   ...      ...         ...   ...\n",
       "111161    21  1998   220000        1781     3\n",
       "111162    21  1999   190321        1390     3\n",
       "111163    20  2019    17123         998     3\n",
       "111164     2  2004   260000        1995     1\n",
       "111165    21  2007   300567        1598     3\n",
       "\n",
       "[111166 rows x 5 columns]"
      ]
     },
     "execution_count": 39,
     "metadata": {},
     "output_type": "execute_result"
    }
   ],
   "source": [
    "X['mark'] = labelencoder.fit_transform(X['mark'])\n",
    "X['fuel'] = labelencoder.fit_transform(X['fuel'])\n",
    "X"
   ]
  },
  {
   "cell_type": "code",
   "execution_count": 40,
   "id": "88a97964",
   "metadata": {},
   "outputs": [
    {
     "data": {
      "text/plain": [
       "array([11,  1,  2, 19, 15,  6, 20,  3, 21, 22,  0,  5, 16, 17, 14,  9, 12,\n",
       "       13,  8,  7, 10,  4, 18])"
      ]
     },
     "execution_count": 40,
     "metadata": {},
     "output_type": "execute_result"
    }
   ],
   "source": [
    "X['mark'].unique()"
   ]
  },
  {
   "cell_type": "code",
   "execution_count": 41,
   "id": "b0a238c7",
   "metadata": {},
   "outputs": [
    {
     "data": {
      "text/plain": [
       "array([3, 1, 2, 4, 5, 0])"
      ]
     },
     "execution_count": 41,
     "metadata": {},
     "output_type": "execute_result"
    }
   ],
   "source": [
    "X['fuel'].unique()"
   ]
  },
  {
   "cell_type": "code",
   "execution_count": 42,
   "id": "20013ef7",
   "metadata": {},
   "outputs": [],
   "source": [
    "X_train, X_test, y_train, y_test = train_test_split(X,y, test_size= 0.2, random_state= 42)"
   ]
  },
  {
   "cell_type": "code",
   "execution_count": 43,
   "id": "15bb79e3",
   "metadata": {},
   "outputs": [],
   "source": [
    "scaler = StandardScaler()\n",
    "scaled_X_train = scaler.fit_transform(X_train)\n",
    "scaled_X_test = scaler.fit_transform(X_test)\n"
   ]
  },
  {
   "cell_type": "markdown",
   "id": "30b04431",
   "metadata": {},
   "source": [
    "### Create a Function To Evaluate Model Results"
   ]
  },
  {
   "cell_type": "code",
   "execution_count": 44,
   "id": "7e84d285",
   "metadata": {},
   "outputs": [],
   "source": [
    "def modelresults(predictions):\n",
    "    print('Mean absolute error on model is {}'.format(mean_absolute_error(y_test, predictions)))\n",
    "    \n",
    "    print('Root mean squared error on model is {}'.format(np.sqrt(mean_squared_error(y_test, predictions))))\n",
    "    \n",
    "    print('The r2 score on model is {}'.format(r2_score(y_test, predictions)))\n",
    "    \n",
    "    \n",
    "    "
   ]
  },
  {
   "cell_type": "markdown",
   "id": "f2d91b7d",
   "metadata": {},
   "source": [
    "### Linear Regression"
   ]
  },
  {
   "cell_type": "code",
   "execution_count": 45,
   "id": "e1bbe290",
   "metadata": {},
   "outputs": [],
   "source": [
    "lr = LinearRegression()"
   ]
  },
  {
   "cell_type": "code",
   "execution_count": 46,
   "id": "e73748d8",
   "metadata": {},
   "outputs": [
    {
     "data": {
      "text/plain": [
       "LinearRegression()"
      ]
     },
     "execution_count": 46,
     "metadata": {},
     "output_type": "execute_result"
    }
   ],
   "source": [
    "lr.fit(scaled_X_train, y_train)"
   ]
  },
  {
   "cell_type": "code",
   "execution_count": 47,
   "id": "fa3b2684",
   "metadata": {},
   "outputs": [],
   "source": [
    "pred_lr = lr.predict(scaled_X_test)"
   ]
  },
  {
   "cell_type": "code",
   "execution_count": 48,
   "id": "ef4b6eeb",
   "metadata": {},
   "outputs": [
    {
     "name": "stdout",
     "output_type": "stream",
     "text": [
      "Mean absolute error on model is 32066.031543708876\n",
      "Root mean squared error on model is 54649.54269782582\n"
     ]
    }
   ],
   "source": [
    "modelresults(pred_lr)"
   ]
  },
  {
   "cell_type": "markdown",
   "id": "c4a6fd99",
   "metadata": {},
   "source": [
    "### Support Vector Machine (SVM) "
   ]
  },
  {
   "cell_type": "code",
   "execution_count": 49,
   "id": "1c41f889",
   "metadata": {},
   "outputs": [],
   "source": [
    "svrmodel = SVR()"
   ]
  },
  {
   "cell_type": "code",
   "execution_count": 50,
   "id": "cac714a4",
   "metadata": {},
   "outputs": [],
   "source": [
    "# Hyper Parameter Tuning \n",
    "param_grid = {\"C\" : [0.001, 0.01, 0.1, 0.5],\n",
    "             \"kernel\" : ['linear', 'rbf', 'poly'],\n",
    "             \"gamma\" : ['scale','auto'],\n",
    "             \"degree\" :[2,3,4,5]}"
   ]
  },
  {
   "cell_type": "code",
   "execution_count": 51,
   "id": "67ee7319",
   "metadata": {},
   "outputs": [],
   "source": [
    "grid = GridSearchCV(svrmodel, param_grid)"
   ]
  },
  {
   "cell_type": "code",
   "execution_count": 52,
   "id": "95120250",
   "metadata": {},
   "outputs": [
    {
     "name": "stdout",
     "output_type": "stream",
     "text": [
      "Wall time: 11min 17s\n"
     ]
    },
    {
     "data": {
      "text/plain": [
       "SVR()"
      ]
     },
     "execution_count": 52,
     "metadata": {},
     "output_type": "execute_result"
    }
   ],
   "source": [
    "%%time\n",
    "svrmodel.fit(scaled_X_train, y_train)"
   ]
  },
  {
   "cell_type": "code",
   "execution_count": 53,
   "id": "f2c0c793",
   "metadata": {},
   "outputs": [],
   "source": [
    "pred_svr = svrmodel.predict(scaled_X_test)"
   ]
  },
  {
   "cell_type": "code",
   "execution_count": 55,
   "id": "942b95f6",
   "metadata": {},
   "outputs": [
    {
     "name": "stdout",
     "output_type": "stream",
     "text": [
      "Mean absolute error on model is 42068.42023837576\n",
      "Root mean squared error on model is 84395.9232597573\n"
     ]
    }
   ],
   "source": [
    "modelresults(pred_svr)"
   ]
  },
  {
   "cell_type": "markdown",
   "id": "5f782e9e",
   "metadata": {},
   "source": [
    "### Random Forest Regressor"
   ]
  },
  {
   "cell_type": "code",
   "execution_count": 56,
   "id": "2fcc64cb",
   "metadata": {},
   "outputs": [],
   "source": [
    "param_grid_rfr ={'n_estimators': [100, 200, 300],\n",
    "    'max_depth': [10, 20, 30],\n",
    "    'min_samples_split': [2, 5, 10],\n",
    "    'min_samples_leaf': [1, 2, 4]}"
   ]
  },
  {
   "cell_type": "code",
   "execution_count": 61,
   "id": "175d34a4",
   "metadata": {},
   "outputs": [],
   "source": [
    "rfr = RandomForestRegressor(random_state= 21)"
   ]
  },
  {
   "cell_type": "code",
   "execution_count": 62,
   "id": "a26524af",
   "metadata": {},
   "outputs": [
    {
     "name": "stdout",
     "output_type": "stream",
     "text": [
      "Wall time: 16.7 s\n"
     ]
    },
    {
     "data": {
      "text/plain": [
       "RandomForestRegressor(random_state=21)"
      ]
     },
     "execution_count": 62,
     "metadata": {},
     "output_type": "execute_result"
    }
   ],
   "source": [
    "%%time\n",
    "rfr.fit(scaled_X_train, y_train)"
   ]
  },
  {
   "cell_type": "code",
   "execution_count": 63,
   "id": "4cb0c869",
   "metadata": {},
   "outputs": [],
   "source": [
    "rfr_cv = GridSearchCV(estimator =rfr, \n",
    "                      param_grid=param_grid_rfr, \n",
    "                      cv=3, \n",
    "                      scoring='neg_mean_squared_error',\n",
    "                     n_jobs=-1  # Use all available CPU cores\n",
    "                     )"
   ]
  },
  {
   "cell_type": "code",
   "execution_count": 65,
   "id": "10b69d61",
   "metadata": {},
   "outputs": [
    {
     "name": "stdout",
     "output_type": "stream",
     "text": [
      "Wall time: 20min 7s\n"
     ]
    },
    {
     "data": {
      "text/plain": [
       "GridSearchCV(cv=3, estimator=RandomForestRegressor(random_state=21), n_jobs=-1,\n",
       "             param_grid={'max_depth': [10, 20, 30],\n",
       "                         'min_samples_leaf': [1, 2, 4],\n",
       "                         'min_samples_split': [2, 5, 10],\n",
       "                         'n_estimators': [100, 200, 300]},\n",
       "             scoring='neg_mean_squared_error')"
      ]
     },
     "execution_count": 65,
     "metadata": {},
     "output_type": "execute_result"
    }
   ],
   "source": [
    "%%time\n",
    "rfr_cv.fit(scaled_X_train, y_train)"
   ]
  }
 ],
 "metadata": {
  "kernelspec": {
   "display_name": "Python 3",
   "language": "python",
   "name": "python3"
  },
  "language_info": {
   "codemirror_mode": {
    "name": "ipython",
    "version": 3
   },
   "file_extension": ".py",
   "mimetype": "text/x-python",
   "name": "python",
   "nbconvert_exporter": "python",
   "pygments_lexer": "ipython3",
   "version": "3.8.8"
  }
 },
 "nbformat": 4,
 "nbformat_minor": 5
}
